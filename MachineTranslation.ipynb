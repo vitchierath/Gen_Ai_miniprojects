{
  "nbformat": 4,
  "nbformat_minor": 0,
  "metadata": {
    "colab": {
      "provenance": [],
      "authorship_tag": "ABX9TyPZ0LJzApxro2iPq2BfIWHR",
      "include_colab_link": true
    },
    "kernelspec": {
      "name": "python3",
      "display_name": "Python 3"
    },
    "language_info": {
      "name": "python"
    }
  },
  "cells": [
    {
      "cell_type": "markdown",
      "metadata": {
        "id": "view-in-github",
        "colab_type": "text"
      },
      "source": [
        "<a href=\"https://colab.research.google.com/github/vitchierath/NLPtasks/blob/main/MachineTranslation.ipynb\" target=\"_parent\"><img src=\"https://colab.research.google.com/assets/colab-badge.svg\" alt=\"Open In Colab\"/></a>"
      ]
    },
    {
      "cell_type": "code",
      "source": [
        "class RuleBasedTranslator:\n",
        "    def __init__(self):\n",
        "        # user-defined dictionary for translations\n",
        "        self.dictionary = {\n",
        "            'hello': 'Vanakkam',\n",
        "            'world': 'Ulagam',\n",
        "            'goodbye': 'Meendum Sandhipom',\n",
        "            'friend': 'nanba'\n",
        "        }\n",
        "\n",
        "    def translate(self, text):\n",
        "        translated_words = []\n",
        "        for word in text.split():\n",
        "            translated_words.append(self.dictionary.get(word, word))\n",
        "\n",
        "        return ' '.join(translated_words)\n",
        "\n",
        "translator = RuleBasedTranslator()\n",
        "translated_text = translator.translate('hello friend')\n",
        "print(translated_text)"
      ],
      "metadata": {
        "colab": {
          "base_uri": "https://localhost:8080/"
        },
        "id": "dZXt9LKdCdXS",
        "outputId": "37edacdf-04d0-4408-f885-7c9a518c5a26"
      },
      "execution_count": 15,
      "outputs": [
        {
          "output_type": "stream",
          "name": "stdout",
          "text": [
            "Vanakkam nanba\n"
          ]
        }
      ]
    },
    {
      "cell_type": "code",
      "source": [
        "import gradio as gr\n",
        "from googletrans import Translator\n",
        "\n",
        "# Rule-Based Machine Translation (RBMT)\n",
        "class RuleBasedTranslator:\n",
        "    def __init__(self):\n",
        "        self.dictionary = {\n",
        "            'hello': 'hello',\n",
        "            'world': 'Ulagam',\n",
        "            'goodbye': 'Meendum Sandhipom',\n",
        "            'friend': 'nanba'\n",
        "        }\n",
        "\n",
        "    def translate(self, text):\n",
        "        translated_words = []\n",
        "        for word in text.split():\n",
        "            translated_words.append(self.dictionary.get(word, word))\n",
        "\n",
        "        return ' '.join(translated_words)\n",
        "\n",
        "# Statistical Machine Translation (SMT)\n",
        "class StatisticalTranslator:\n",
        "    def __init__(self):\n",
        "        self.phrase_table = {\n",
        "            ('hello', 'Vanakkam'): 0.9,\n",
        "            ('world', 'Ulagam'): 0.8,\n",
        "            ('goodbye', 'Meendum Sandhipom'): 0.95,\n",
        "            ('friend', 'nanba'): 0.85,\n",
        "            ('hello world', 'Vanakkam Ulagam'): 0.95,\n",
        "            ('goodbye friend', 'Meendum Sandhipom nanba'): 0.90\n",
        "        }\n",
        "\n",
        "    def translate(self, text):\n",
        "        phrases = text.split()\n",
        "        translated_phrases = []\n",
        "\n",
        "        for phrase in phrases:\n",
        "            best_translation = phrase\n",
        "            best_probability = 0.0\n",
        "            for (src, tgt), prob in self.phrase_table.items():\n",
        "                if src == phrase and prob > best_probability:\n",
        "                    best_translation = tgt\n",
        "                    best_probability = prob\n",
        "\n",
        "            translated_phrases.append(best_translation)\n",
        "\n",
        "        return ' '.join(translated_phrases)\n",
        "\n",
        "\n",
        "# Instantiate translators\n",
        "rbmt_translator = RuleBasedTranslator()\n",
        "smt_translator = StatisticalTranslator()\n",
        "\n",
        "# Define Gradio interface\n",
        "def translate_text(text, method):\n",
        "    if method == 'RBMT':\n",
        "        return rbmt_translator.translate(text)\n",
        "    elif method == 'SMT':\n",
        "        return smt_translator.translate(text)\n",
        "\n",
        "iface = gr.Interface(\n",
        "    fn=translate_text,\n",
        "    inputs=[\n",
        "        gr.Textbox(lines=5, placeholder=\"Enter text here...\"),\n",
        "        gr.Radio(['RBMT', 'SMT'], label=\"Translation Method\")\n",
        "    ],\n",
        "    outputs=\"text\",\n",
        "    title=\"Machine Translation\",\n",
        "    description=\"Translate text from English to Tanglish using Rule-Based and Statistical.\"\n",
        ")\n",
        "\n",
        "# Launch the interface\n",
        "iface.launch()"
      ],
      "metadata": {
        "colab": {
          "base_uri": "https://localhost:8080/",
          "height": 646
        },
        "id": "uL5YbDfhHPZf",
        "outputId": "52f74f61-d53d-4088-92a8-129f1ef1c671"
      },
      "execution_count": 32,
      "outputs": [
        {
          "output_type": "stream",
          "name": "stdout",
          "text": [
            "Running Gradio in a Colab notebook requires sharing enabled. Automatically setting `share=True` (you can turn this off by setting `share=False` in `launch()` explicitly).\n",
            "\n",
            "Colab notebook detected. To show errors in colab notebook, set debug=True in launch()\n",
            "* Running on public URL: https://8b545fc467c30e24fc.gradio.live\n",
            "\n",
            "This share link expires in 72 hours. For free permanent hosting and GPU upgrades, run `gradio deploy` from the terminal in the working directory to deploy to Hugging Face Spaces (https://huggingface.co/spaces)\n"
          ]
        },
        {
          "output_type": "display_data",
          "data": {
            "text/plain": [
              "<IPython.core.display.HTML object>"
            ],
            "text/html": [
              "<div><iframe src=\"https://8b545fc467c30e24fc.gradio.live\" width=\"100%\" height=\"500\" allow=\"autoplay; camera; microphone; clipboard-read; clipboard-write;\" frameborder=\"0\" allowfullscreen></iframe></div>"
            ]
          },
          "metadata": {}
        },
        {
          "output_type": "execute_result",
          "data": {
            "text/plain": []
          },
          "metadata": {},
          "execution_count": 32
        }
      ]
    },
    {
      "cell_type": "code",
      "source": [
        "import gradio as gr\n",
        "from transformers import MarianMTModel, MarianTokenizer\n",
        "\n",
        "# Define the model and tokenizer\n",
        "model_name = \"Helsinki-NLP/opus-mt-en-de\"  # English to German model\n",
        "tokenizer = MarianTokenizer.from_pretrained(model_name)\n",
        "model = MarianMTModel.from_pretrained(model_name)\n",
        "\n",
        "# Function to translate text\n",
        "def translate(text):\n",
        "    inputs = tokenizer(text, return_tensors=\"pt\", padding=True)\n",
        "    translated = model.generate(**inputs)\n",
        "    translated_text = tokenizer.decode(translated[0], skip_special_tokens=True)\n",
        "    return translated_text\n",
        "\n",
        "# Create Gradio interface\n",
        "interface = gr.Interface(\n",
        "    fn=translate,\n",
        "    inputs=gr.Textbox(lines=2, placeholder=\"Enter text to translate...\"),\n",
        "    outputs=\"text\",\n",
        "    title=\"Machine Translation with Gradio\",\n",
        "    description=\"Translate English text to German using a pre-trained MarianMT model.\"\n",
        ")\n",
        "\n",
        "# Launch the interface\n",
        "if __name__ == \"__main__\":\n",
        "    interface.launch()"
      ],
      "metadata": {
        "colab": {
          "base_uri": "https://localhost:8080/",
          "height": 646
        },
        "id": "YXh46MvnMlGy",
        "outputId": "cd68c6a3-1aed-401a-f693-bbd4a73cddc4"
      },
      "execution_count": 22,
      "outputs": [
        {
          "output_type": "stream",
          "name": "stdout",
          "text": [
            "Running Gradio in a Colab notebook requires sharing enabled. Automatically setting `share=True` (you can turn this off by setting `share=False` in `launch()` explicitly).\n",
            "\n",
            "Colab notebook detected. To show errors in colab notebook, set debug=True in launch()\n",
            "* Running on public URL: https://1a04a47f2286379edc.gradio.live\n",
            "\n",
            "This share link expires in 72 hours. For free permanent hosting and GPU upgrades, run `gradio deploy` from the terminal in the working directory to deploy to Hugging Face Spaces (https://huggingface.co/spaces)\n"
          ]
        },
        {
          "output_type": "display_data",
          "data": {
            "text/plain": [
              "<IPython.core.display.HTML object>"
            ],
            "text/html": [
              "<div><iframe src=\"https://1a04a47f2286379edc.gradio.live\" width=\"100%\" height=\"500\" allow=\"autoplay; camera; microphone; clipboard-read; clipboard-write;\" frameborder=\"0\" allowfullscreen></iframe></div>"
            ]
          },
          "metadata": {}
        }
      ]
    },
    {
      "cell_type": "code",
      "source": [],
      "metadata": {
        "id": "F07WOuYnPsM_"
      },
      "execution_count": null,
      "outputs": []
    }
  ]
}